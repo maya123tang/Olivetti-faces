{
 "cells": [
  {
   "cell_type": "markdown",
   "id": "c485e991",
   "metadata": {},
   "source": [
    "The data in the dataset is of different faces. We imported the dataset and then loaded the dataset. We made a variable for the dataset called load_olivetti. The load_olivetti variable contains data, target, and DESCR.\n",
    "data = has information about every pixel for every image, has 400 images\n",
    "image dimensions = 64 x 64\n",
    "4096 pixels per image\n",
    "flatten the image\n",
    "40 people were photographed 10 times each\n",
    "target = number represents the person, and each person has 10 photos (so 10 of their number)\n",
    "DESCR = description"
   ]
  },
  {
   "cell_type": "code",
   "execution_count": 13,
   "id": "d33da9b4",
   "metadata": {},
   "outputs": [],
   "source": [
    "from sklearn.datasets import fetch_olivetti_faces\n",
    "import matplotlib.pyplot as plt"
   ]
  },
  {
   "cell_type": "code",
   "execution_count": 14,
   "id": "728762fa",
   "metadata": {},
   "outputs": [
    {
     "name": "stdout",
     "output_type": "stream",
     "text": [
      "hi\n"
     ]
    }
   ],
   "source": [
    "print(\"hi\")"
   ]
  },
  {
   "cell_type": "code",
   "execution_count": null,
   "id": "a1e89460",
   "metadata": {},
   "outputs": [],
   "source": []
  },
  {
   "cell_type": "code",
   "execution_count": 15,
   "id": "272fd042",
   "metadata": {},
   "outputs": [],
   "source": [
    "load_olivetti = fetch_olivetti_faces()"
   ]
  },
  {
   "cell_type": "code",
   "execution_count": 16,
   "id": "fef9ef1f",
   "metadata": {},
   "outputs": [
    {
     "name": "stdout",
     "output_type": "stream",
     "text": [
      "{'data': array([[0.30991736, 0.3677686 , 0.41735536, ..., 0.15289256, 0.16115703,\n",
      "        0.1570248 ],\n",
      "       [0.45454547, 0.47107437, 0.5123967 , ..., 0.15289256, 0.15289256,\n",
      "        0.15289256],\n",
      "       [0.3181818 , 0.40082645, 0.49173555, ..., 0.14049587, 0.14876033,\n",
      "        0.15289256],\n",
      "       ...,\n",
      "       [0.5       , 0.53305787, 0.607438  , ..., 0.17768595, 0.14876033,\n",
      "        0.19008264],\n",
      "       [0.21487603, 0.21900827, 0.21900827, ..., 0.57438016, 0.59090906,\n",
      "        0.60330576],\n",
      "       [0.5165289 , 0.46280992, 0.28099173, ..., 0.35950413, 0.3553719 ,\n",
      "        0.38429752]], dtype=float32), 'images': array([[[0.30991736, 0.3677686 , 0.41735536, ..., 0.37190083,\n",
      "         0.3305785 , 0.30578512],\n",
      "        [0.3429752 , 0.40495867, 0.43801653, ..., 0.37190083,\n",
      "         0.338843  , 0.3140496 ],\n",
      "        [0.3429752 , 0.41735536, 0.45041323, ..., 0.38016528,\n",
      "         0.338843  , 0.29752067],\n",
      "        ...,\n",
      "        [0.21487603, 0.20661157, 0.2231405 , ..., 0.15289256,\n",
      "         0.16528925, 0.17355372],\n",
      "        [0.20247933, 0.2107438 , 0.2107438 , ..., 0.14876033,\n",
      "         0.16115703, 0.16528925],\n",
      "        [0.20247933, 0.20661157, 0.20247933, ..., 0.15289256,\n",
      "         0.16115703, 0.1570248 ]],\n",
      "\n",
      "       [[0.45454547, 0.47107437, 0.5123967 , ..., 0.19008264,\n",
      "         0.18595041, 0.18595041],\n",
      "        [0.446281  , 0.48347107, 0.5206612 , ..., 0.21487603,\n",
      "         0.2107438 , 0.2107438 ],\n",
      "        [0.49586776, 0.5165289 , 0.53305787, ..., 0.20247933,\n",
      "         0.20661157, 0.20661157],\n",
      "        ...,\n",
      "        [0.77272725, 0.78099173, 0.7933884 , ..., 0.1446281 ,\n",
      "         0.1446281 , 0.1446281 ],\n",
      "        [0.77272725, 0.7768595 , 0.7892562 , ..., 0.13636364,\n",
      "         0.13636364, 0.13636364],\n",
      "        [0.7644628 , 0.7892562 , 0.78099173, ..., 0.15289256,\n",
      "         0.15289256, 0.15289256]],\n",
      "\n",
      "       [[0.3181818 , 0.40082645, 0.49173555, ..., 0.40082645,\n",
      "         0.3553719 , 0.30991736],\n",
      "        [0.30991736, 0.3966942 , 0.47933885, ..., 0.40495867,\n",
      "         0.37603307, 0.30165288],\n",
      "        [0.26859504, 0.34710744, 0.45454547, ..., 0.3966942 ,\n",
      "         0.37190083, 0.30991736],\n",
      "        ...,\n",
      "        [0.1322314 , 0.09917355, 0.08264463, ..., 0.13636364,\n",
      "         0.14876033, 0.15289256],\n",
      "        [0.11570248, 0.09504132, 0.0785124 , ..., 0.1446281 ,\n",
      "         0.1446281 , 0.1570248 ],\n",
      "        [0.11157025, 0.09090909, 0.0785124 , ..., 0.14049587,\n",
      "         0.14876033, 0.15289256]],\n",
      "\n",
      "       ...,\n",
      "\n",
      "       [[0.5       , 0.53305787, 0.607438  , ..., 0.28512397,\n",
      "         0.23966943, 0.21487603],\n",
      "        [0.49173555, 0.5413223 , 0.60330576, ..., 0.29752067,\n",
      "         0.20247933, 0.20661157],\n",
      "        [0.46694216, 0.55785125, 0.6198347 , ..., 0.29752067,\n",
      "         0.17768595, 0.18595041],\n",
      "        ...,\n",
      "        [0.03305785, 0.46280992, 0.5289256 , ..., 0.17355372,\n",
      "         0.17355372, 0.1694215 ],\n",
      "        [0.1570248 , 0.5247934 , 0.53305787, ..., 0.16528925,\n",
      "         0.1570248 , 0.18595041],\n",
      "        [0.45454547, 0.5206612 , 0.53305787, ..., 0.17768595,\n",
      "         0.14876033, 0.19008264]],\n",
      "\n",
      "       [[0.21487603, 0.21900827, 0.21900827, ..., 0.71487606,\n",
      "         0.71487606, 0.6942149 ],\n",
      "        [0.20247933, 0.20661157, 0.20661157, ..., 0.7107438 ,\n",
      "         0.7066116 , 0.6942149 ],\n",
      "        [0.2107438 , 0.20661157, 0.20661157, ..., 0.6859504 ,\n",
      "         0.69008267, 0.6942149 ],\n",
      "        ...,\n",
      "        [0.2644628 , 0.25619835, 0.2603306 , ..., 0.5413223 ,\n",
      "         0.57438016, 0.59090906],\n",
      "        [0.26859504, 0.2644628 , 0.26859504, ..., 0.56198347,\n",
      "         0.58264464, 0.59504133],\n",
      "        [0.27272728, 0.26859504, 0.27272728, ..., 0.57438016,\n",
      "         0.59090906, 0.60330576]],\n",
      "\n",
      "       [[0.5165289 , 0.46280992, 0.28099173, ..., 0.5785124 ,\n",
      "         0.5413223 , 0.60330576],\n",
      "        [0.5165289 , 0.45041323, 0.29338843, ..., 0.58264464,\n",
      "         0.553719  , 0.5785124 ],\n",
      "        [0.5165289 , 0.44214877, 0.29338843, ..., 0.59917355,\n",
      "         0.5785124 , 0.54545456],\n",
      "        ...,\n",
      "        [0.39256197, 0.41322315, 0.38842976, ..., 0.33471075,\n",
      "         0.37190083, 0.3966942 ],\n",
      "        [0.39256197, 0.38429752, 0.40495867, ..., 0.3305785 ,\n",
      "         0.35950413, 0.37603307],\n",
      "        [0.3677686 , 0.40495867, 0.3966942 , ..., 0.35950413,\n",
      "         0.3553719 , 0.38429752]]], dtype=float32), 'target': array([ 0,  0,  0,  0,  0,  0,  0,  0,  0,  0,  1,  1,  1,  1,  1,  1,  1,\n",
      "        1,  1,  1,  2,  2,  2,  2,  2,  2,  2,  2,  2,  2,  3,  3,  3,  3,\n",
      "        3,  3,  3,  3,  3,  3,  4,  4,  4,  4,  4,  4,  4,  4,  4,  4,  5,\n",
      "        5,  5,  5,  5,  5,  5,  5,  5,  5,  6,  6,  6,  6,  6,  6,  6,  6,\n",
      "        6,  6,  7,  7,  7,  7,  7,  7,  7,  7,  7,  7,  8,  8,  8,  8,  8,\n",
      "        8,  8,  8,  8,  8,  9,  9,  9,  9,  9,  9,  9,  9,  9,  9, 10, 10,\n",
      "       10, 10, 10, 10, 10, 10, 10, 10, 11, 11, 11, 11, 11, 11, 11, 11, 11,\n",
      "       11, 12, 12, 12, 12, 12, 12, 12, 12, 12, 12, 13, 13, 13, 13, 13, 13,\n",
      "       13, 13, 13, 13, 14, 14, 14, 14, 14, 14, 14, 14, 14, 14, 15, 15, 15,\n",
      "       15, 15, 15, 15, 15, 15, 15, 16, 16, 16, 16, 16, 16, 16, 16, 16, 16,\n",
      "       17, 17, 17, 17, 17, 17, 17, 17, 17, 17, 18, 18, 18, 18, 18, 18, 18,\n",
      "       18, 18, 18, 19, 19, 19, 19, 19, 19, 19, 19, 19, 19, 20, 20, 20, 20,\n",
      "       20, 20, 20, 20, 20, 20, 21, 21, 21, 21, 21, 21, 21, 21, 21, 21, 22,\n",
      "       22, 22, 22, 22, 22, 22, 22, 22, 22, 23, 23, 23, 23, 23, 23, 23, 23,\n",
      "       23, 23, 24, 24, 24, 24, 24, 24, 24, 24, 24, 24, 25, 25, 25, 25, 25,\n",
      "       25, 25, 25, 25, 25, 26, 26, 26, 26, 26, 26, 26, 26, 26, 26, 27, 27,\n",
      "       27, 27, 27, 27, 27, 27, 27, 27, 28, 28, 28, 28, 28, 28, 28, 28, 28,\n",
      "       28, 29, 29, 29, 29, 29, 29, 29, 29, 29, 29, 30, 30, 30, 30, 30, 30,\n",
      "       30, 30, 30, 30, 31, 31, 31, 31, 31, 31, 31, 31, 31, 31, 32, 32, 32,\n",
      "       32, 32, 32, 32, 32, 32, 32, 33, 33, 33, 33, 33, 33, 33, 33, 33, 33,\n",
      "       34, 34, 34, 34, 34, 34, 34, 34, 34, 34, 35, 35, 35, 35, 35, 35, 35,\n",
      "       35, 35, 35, 36, 36, 36, 36, 36, 36, 36, 36, 36, 36, 37, 37, 37, 37,\n",
      "       37, 37, 37, 37, 37, 37, 38, 38, 38, 38, 38, 38, 38, 38, 38, 38, 39,\n",
      "       39, 39, 39, 39, 39, 39, 39, 39, 39]), 'DESCR': '.. _olivetti_faces_dataset:\\n\\nThe Olivetti faces dataset\\n--------------------------\\n\\n`This dataset contains a set of face images`_ taken between April 1992 and \\nApril 1994 at AT&T Laboratories Cambridge. The\\n:func:`sklearn.datasets.fetch_olivetti_faces` function is the data\\nfetching / caching function that downloads the data\\narchive from AT&T.\\n\\n.. _This dataset contains a set of face images: http://www.cl.cam.ac.uk/research/dtg/attarchive/facedatabase.html\\n\\nAs described on the original website:\\n\\n    There are ten different images of each of 40 distinct subjects. For some\\n    subjects, the images were taken at different times, varying the lighting,\\n    facial expressions (open / closed eyes, smiling / not smiling) and facial\\n    details (glasses / no glasses). All the images were taken against a dark\\n    homogeneous background with the subjects in an upright, frontal position \\n    (with tolerance for some side movement).\\n\\n**Data Set Characteristics:**\\n\\n    =================   =====================\\n    Classes                                40\\n    Samples total                         400\\n    Dimensionality                       4096\\n    Features            real, between 0 and 1\\n    =================   =====================\\n\\nThe image is quantized to 256 grey levels and stored as unsigned 8-bit \\nintegers; the loader will convert these to floating point values on the \\ninterval [0, 1], which are easier to work with for many algorithms.\\n\\nThe \"target\" for this database is an integer from 0 to 39 indicating the\\nidentity of the person pictured; however, with only 10 examples per class, this\\nrelatively small dataset is more interesting from an unsupervised or\\nsemi-supervised perspective.\\n\\nThe original dataset consisted of 92 x 112, while the version available here\\nconsists of 64x64 images.\\n\\nWhen using these images, please give credit to AT&T Laboratories Cambridge.\\n'}\n"
     ]
    }
   ],
   "source": [
    "print(load_olivetti)"
   ]
  },
  {
   "cell_type": "code",
   "execution_count": 17,
   "id": "c6f2f094",
   "metadata": {},
   "outputs": [],
   "source": [
    "first_picture = load_olivetti.data[0]"
   ]
  },
  {
   "cell_type": "code",
   "execution_count": 18,
   "id": "ef348a48",
   "metadata": {},
   "outputs": [
    {
     "data": {
      "text/plain": [
       "array([ 0,  0,  0,  0,  0,  0,  0,  0,  0,  0,  1,  1,  1,  1,  1,  1,  1,\n",
       "        1,  1,  1,  2,  2,  2,  2,  2,  2,  2,  2,  2,  2,  3,  3,  3,  3,\n",
       "        3,  3,  3,  3,  3,  3,  4,  4,  4,  4,  4,  4,  4,  4,  4,  4,  5,\n",
       "        5,  5,  5,  5,  5,  5,  5,  5,  5,  6,  6,  6,  6,  6,  6,  6,  6,\n",
       "        6,  6,  7,  7,  7,  7,  7,  7,  7,  7,  7,  7,  8,  8,  8,  8,  8,\n",
       "        8,  8,  8,  8,  8,  9,  9,  9,  9,  9,  9,  9,  9,  9,  9, 10, 10,\n",
       "       10, 10, 10, 10, 10, 10, 10, 10, 11, 11, 11, 11, 11, 11, 11, 11, 11,\n",
       "       11, 12, 12, 12, 12, 12, 12, 12, 12, 12, 12, 13, 13, 13, 13, 13, 13,\n",
       "       13, 13, 13, 13, 14, 14, 14, 14, 14, 14, 14, 14, 14, 14, 15, 15, 15,\n",
       "       15, 15, 15, 15, 15, 15, 15, 16, 16, 16, 16, 16, 16, 16, 16, 16, 16,\n",
       "       17, 17, 17, 17, 17, 17, 17, 17, 17, 17, 18, 18, 18, 18, 18, 18, 18,\n",
       "       18, 18, 18, 19, 19, 19, 19, 19, 19, 19, 19, 19, 19, 20, 20, 20, 20,\n",
       "       20, 20, 20, 20, 20, 20, 21, 21, 21, 21, 21, 21, 21, 21, 21, 21, 22,\n",
       "       22, 22, 22, 22, 22, 22, 22, 22, 22, 23, 23, 23, 23, 23, 23, 23, 23,\n",
       "       23, 23, 24, 24, 24, 24, 24, 24, 24, 24, 24, 24, 25, 25, 25, 25, 25,\n",
       "       25, 25, 25, 25, 25, 26, 26, 26, 26, 26, 26, 26, 26, 26, 26, 27, 27,\n",
       "       27, 27, 27, 27, 27, 27, 27, 27, 28, 28, 28, 28, 28, 28, 28, 28, 28,\n",
       "       28, 29, 29, 29, 29, 29, 29, 29, 29, 29, 29, 30, 30, 30, 30, 30, 30,\n",
       "       30, 30, 30, 30, 31, 31, 31, 31, 31, 31, 31, 31, 31, 31, 32, 32, 32,\n",
       "       32, 32, 32, 32, 32, 32, 32, 33, 33, 33, 33, 33, 33, 33, 33, 33, 33,\n",
       "       34, 34, 34, 34, 34, 34, 34, 34, 34, 34, 35, 35, 35, 35, 35, 35, 35,\n",
       "       35, 35, 35, 36, 36, 36, 36, 36, 36, 36, 36, 36, 36, 37, 37, 37, 37,\n",
       "       37, 37, 37, 37, 37, 37, 38, 38, 38, 38, 38, 38, 38, 38, 38, 38, 39,\n",
       "       39, 39, 39, 39, 39, 39, 39, 39, 39])"
      ]
     },
     "execution_count": 18,
     "metadata": {},
     "output_type": "execute_result"
    }
   ],
   "source": [
    "load_olivetti.target"
   ]
  },
  {
   "cell_type": "code",
   "execution_count": 19,
   "id": "d5df16e0",
   "metadata": {},
   "outputs": [
    {
     "data": {
      "text/plain": [
       "'.. _olivetti_faces_dataset:\\n\\nThe Olivetti faces dataset\\n--------------------------\\n\\n`This dataset contains a set of face images`_ taken between April 1992 and \\nApril 1994 at AT&T Laboratories Cambridge. The\\n:func:`sklearn.datasets.fetch_olivetti_faces` function is the data\\nfetching / caching function that downloads the data\\narchive from AT&T.\\n\\n.. _This dataset contains a set of face images: http://www.cl.cam.ac.uk/research/dtg/attarchive/facedatabase.html\\n\\nAs described on the original website:\\n\\n    There are ten different images of each of 40 distinct subjects. For some\\n    subjects, the images were taken at different times, varying the lighting,\\n    facial expressions (open / closed eyes, smiling / not smiling) and facial\\n    details (glasses / no glasses). All the images were taken against a dark\\n    homogeneous background with the subjects in an upright, frontal position \\n    (with tolerance for some side movement).\\n\\n**Data Set Characteristics:**\\n\\n    =================   =====================\\n    Classes                                40\\n    Samples total                         400\\n    Dimensionality                       4096\\n    Features            real, between 0 and 1\\n    =================   =====================\\n\\nThe image is quantized to 256 grey levels and stored as unsigned 8-bit \\nintegers; the loader will convert these to floating point values on the \\ninterval [0, 1], which are easier to work with for many algorithms.\\n\\nThe \"target\" for this database is an integer from 0 to 39 indicating the\\nidentity of the person pictured; however, with only 10 examples per class, this\\nrelatively small dataset is more interesting from an unsupervised or\\nsemi-supervised perspective.\\n\\nThe original dataset consisted of 92 x 112, while the version available here\\nconsists of 64x64 images.\\n\\nWhen using these images, please give credit to AT&T Laboratories Cambridge.\\n'"
      ]
     },
     "execution_count": 19,
     "metadata": {},
     "output_type": "execute_result"
    }
   ],
   "source": [
    "load_olivetti.DESCR"
   ]
  },
  {
   "cell_type": "code",
   "execution_count": 20,
   "id": "8eee010b",
   "metadata": {},
   "outputs": [
    {
     "name": "stdout",
     "output_type": "stream",
     "text": [
      "(4096,)\n"
     ]
    }
   ],
   "source": [
    "print(first_picture.shape)"
   ]
  },
  {
   "cell_type": "code",
   "execution_count": 21,
   "id": "e008ee35",
   "metadata": {},
   "outputs": [],
   "source": [
    "data = load_olivetti.data\n",
    "target = load_olivetti.target\n"
   ]
  },
  {
   "cell_type": "code",
   "execution_count": 22,
   "id": "a43f6d59",
   "metadata": {},
   "outputs": [],
   "source": [
    "import numpy as np\n",
    "from sklearn.model_selection import StratifiedShuffleSplit\n",
    "sss = StratifiedShuffleSplit(n_splits=5, test_size=.2, random_state=9)"
   ]
  },
  {
   "cell_type": "code",
   "execution_count": 23,
   "id": "8b57e418",
   "metadata": {},
   "outputs": [
    {
     "name": "stdout",
     "output_type": "stream",
     "text": [
      "[[0.5206612  0.5206612  0.53305787 ... 0.46694216 0.43801653 0.43801653]\n",
      " [0.20661157 0.2768595  0.3553719  ... 0.30991736 0.37190083 0.38429752]\n",
      " [0.6570248  0.677686   0.6983471  ... 0.11570248 0.11570248 0.10330579]\n",
      " ...\n",
      " [0.7107438  0.74793386 0.76859504 ... 0.39256197 0.47933885 0.7107438 ]\n",
      " [0.47933885 0.5495868  0.6280992  ... 0.2231405  0.21900827 0.22727273]\n",
      " [0.41735536 0.47107437 0.59504133 ... 0.14876033 0.15289256 0.20661157]]\n"
     ]
    }
   ],
   "source": [
    "for train_and_val_index, test_index in sss.split(data, target): \n",
    "    data_train_and_val= data[train_and_val_index]\n",
    "    data_test = data[test_index]\n",
    "    target_train_and_val = target[train_and_val_index]\n",
    "    target_test = target[test_index]\n",
    "    \n",
    "\n",
    "for train_index, val_index in sss.split(data_train_and_val, target_train_and_val): \n",
    "    data_train= data[train_index]\n",
    "    data_val = data[val_index]\n",
    "    target_train = target[train_index]\n",
    "    target_val = target[val_index]\n",
    "    \n",
    "print(data_train)\n"
   ]
  },
  {
   "cell_type": "code",
   "execution_count": 24,
   "id": "95a73b4c",
   "metadata": {},
   "outputs": [
    {
     "name": "stdout",
     "output_type": "stream",
     "text": [
      "(256, 4096)\n",
      "(64, 4096)\n",
      "(80, 4096)\n"
     ]
    }
   ],
   "source": [
    "print(data_train.shape)\n",
    "print(data_val.shape)\n",
    "print(data_test.shape)"
   ]
  },
  {
   "cell_type": "code",
   "execution_count": 25,
   "id": "aa2a2a32",
   "metadata": {},
   "outputs": [
    {
     "name": "stdout",
     "output_type": "stream",
     "text": [
      "[0.5206612  0.5206612  0.53305787 ... 0.46694216 0.43801653 0.43801653]\n"
     ]
    }
   ],
   "source": [
    "print(data_train[0])\n"
   ]
  },
  {
   "cell_type": "code",
   "execution_count": 26,
   "id": "a56b9348",
   "metadata": {},
   "outputs": [],
   "source": [
    "from sklearn.cluster import KMeans\n",
    "k = 40\n",
    "kmeans = KMeans(n_clusters=k)\n",
    "target_pred = kmeans.fit_predict(data_train)"
   ]
  },
  {
   "cell_type": "code",
   "execution_count": 37,
   "id": "8ba1e9a5",
   "metadata": {},
   "outputs": [
    {
     "name": "stdout",
     "output_type": "stream",
     "text": [
      "[37  3 19  9  7 27  8 18 31 37 15  9 10 20 35  3 38  6 17  1  5 37 27 11\n",
      "  8 26  9 11 19 23 10 30 35 26 26  8 19 19 10  7 21 15 21 18 24 11 28 18\n",
      "  3 22 10 12 11 13  4  4 20  6  2  7  6  8  3 10 27  1 17 21 21 33 14 27\n",
      " 32 11 34 31 21  3 10  5 16 27 10 38  8 32  4  9 28 16 15 39 14  5 21 37\n",
      "  2 37 31 11 19  0 23 18 14 14  1  2  7 32 24  7 15  1  3 33  4  2 18  9\n",
      " 16 22 35 23 33 18 32  7 32 27 24 19 21 18 12 27 12 10 11 36 10 18 18 29\n",
      " 37 10 17 10 36  6  7 32 14 16 14  8 20 21 36 37 29 10  1  4  9  7  8  4\n",
      " 27 25  1 27 38 23 17 10 36 36  1 39 11 25  9  5 21  5 27 17  4 23 36  6\n",
      " 19  9 20 35 14 21  3 31 32 21 15  1 38 14 10  8 21 27 10 14 25 28 17 21\n",
      "  5 27 24 26 31 20  3 21 17  3 37 18  2 25 12 34 12 37 23 36 15  9 30 13\n",
      " 26 34 18 10 14  1 13 30 19 13 10 21  7 22 28 23]\n"
     ]
    },
    {
     "ename": "NameError",
     "evalue": "name 'arr' is not defined",
     "output_type": "error",
     "traceback": [
      "\u001b[0;31m---------------------------------------------------------------------------\u001b[0m",
      "\u001b[0;31mNameError\u001b[0m                                 Traceback (most recent call last)",
      "\u001b[0;32m/var/folders/jb/g477zm0s6x3gmhc0fhy1_y880000gn/T/ipykernel_1573/165958307.py\u001b[0m in \u001b[0;36m<module>\u001b[0;34m\u001b[0m\n\u001b[1;32m      2\u001b[0m \u001b[0;34m\u001b[0m\u001b[0m\n\u001b[1;32m      3\u001b[0m \u001b[0marray\u001b[0m \u001b[0;34m=\u001b[0m \u001b[0;34m[\u001b[0m\u001b[0;36m1\u001b[0m\u001b[0;34m,\u001b[0m \u001b[0;36m2\u001b[0m\u001b[0;34m,\u001b[0m \u001b[0;36m3\u001b[0m\u001b[0;34m,\u001b[0m \u001b[0;36m4\u001b[0m\u001b[0;34m,\u001b[0m \u001b[0;36m5\u001b[0m\u001b[0;34m]\u001b[0m\u001b[0;34m\u001b[0m\u001b[0;34m\u001b[0m\u001b[0m\n\u001b[0;32m----> 4\u001b[0;31m \u001b[0mprint\u001b[0m\u001b[0;34m(\u001b[0m\u001b[0mlen\u001b[0m\u001b[0;34m(\u001b[0m\u001b[0marr\u001b[0m\u001b[0;34m)\u001b[0m\u001b[0;34m)\u001b[0m\u001b[0;34m\u001b[0m\u001b[0;34m\u001b[0m\u001b[0m\n\u001b[0m",
      "\u001b[0;31mNameError\u001b[0m: name 'arr' is not defined"
     ]
    }
   ],
   "source": [
    "print(target_pred)\n",
    "\n"
   ]
  },
  {
   "cell_type": "code",
   "execution_count": 40,
   "id": "a15b68be",
   "metadata": {},
   "outputs": [
    {
     "name": "stdout",
     "output_type": "stream",
     "text": [
      "256\n"
     ]
    }
   ],
   "source": [
    "\n",
    "print(len(target_pred))"
   ]
  },
  {
   "cell_type": "code",
   "execution_count": 28,
   "id": "a20754cd",
   "metadata": {},
   "outputs": [],
   "source": [
    "#printing one picture\n",
    "first_picture_train = data_train[0]"
   ]
  },
  {
   "cell_type": "code",
   "execution_count": 29,
   "id": "01e3bddb",
   "metadata": {},
   "outputs": [
    {
     "name": "stdout",
     "output_type": "stream",
     "text": [
      "[[0.5206612  0.5206612  0.53305787 ... 0.60330576 0.59090906 0.5371901 ]\n",
      " [0.5082645  0.5123967  0.5165289  ... 0.59090906 0.5661157  0.5371901 ]\n",
      " [0.48347107 0.5123967  0.5041322  ... 0.57438016 0.55785125 0.53305787]\n",
      " ...\n",
      " [0.3966942  0.38016528 0.37603307 ... 0.46694216 0.4338843  0.4338843 ]\n",
      " [0.36363637 0.39256197 0.35950413 ... 0.46694216 0.4338843  0.4338843 ]\n",
      " [0.33471075 0.3966942  0.3677686  ... 0.46694216 0.43801653 0.43801653]]\n"
     ]
    }
   ],
   "source": [
    "# reshape array\n",
    "\n",
    "first_picture_train_reshaped = first_picture_train.reshape(64, 64)\n",
    "print(first_picture_train_reshaped)\n"
   ]
  },
  {
   "cell_type": "code",
   "execution_count": 30,
   "id": "bb298ee0",
   "metadata": {},
   "outputs": [
    {
     "name": "stdout",
     "output_type": "stream",
     "text": [
      "(64, 64)\n"
     ]
    }
   ],
   "source": [
    "print(first_picture_train_reshaped.shape)"
   ]
  },
  {
   "cell_type": "code",
   "execution_count": 31,
   "id": "ca93d842",
   "metadata": {},
   "outputs": [
    {
     "data": {
      "text/plain": [
       "<matplotlib.image.AxesImage at 0x7fb2b2927d90>"
      ]
     },
     "execution_count": 31,
     "metadata": {},
     "output_type": "execute_result"
    },
    {
     "data": {
      "image/png": "[encoded data removed]",
      "text/plain": [
       "<Figure size 432x288 with 1 Axes>"
      ]
     },
     "metadata": {
      "needs_background": "light"
     },
     "output_type": "display_data"
    }
   ],
   "source": [
    "plt.imshow(first_picture_train_reshaped)"
   ]
  },
  {
   "cell_type": "code",
   "execution_count": 32,
   "id": "900605c8",
   "metadata": {},
   "outputs": [
    {
     "name": "stdout",
     "output_type": "stream",
     "text": [
      "[37  3 19  9  7 27  8 18 31 37 15  9 10 20 35  3 38  6 17  1  5 37 27 11\n",
      "  8 26  9 11 19 23 10 30 35 26 26  8 19 19 10  7 21 15 21 18 24 11 28 18\n",
      "  3 22 10 12 11 13  4  4 20  6  2  7  6  8  3 10 27  1 17 21 21 33 14 27\n",
      " 32 11 34 31 21  3 10  5 16 27 10 38  8 32  4  9 28 16 15 39 14  5 21 37\n",
      "  2 37 31 11 19  0 23 18 14 14  1  2  7 32 24  7 15  1  3 33  4  2 18  9\n",
      " 16 22 35 23 33 18 32  7 32 27 24 19 21 18 12 27 12 10 11 36 10 18 18 29\n",
      " 37 10 17 10 36  6  7 32 14 16 14  8 20 21 36 37 29 10  1  4  9  7  8  4\n",
      " 27 25  1 27 38 23 17 10 36 36  1 39 11 25  9  5 21  5 27 17  4 23 36  6\n",
      " 19  9 20 35 14 21  3 31 32 21 15  1 38 14 10  8 21 27 10 14 25 28 17 21\n",
      "  5 27 24 26 31 20  3 21 17  3 37 18  2 25 12 34 12 37 23 36 15  9 30 13\n",
      " 26 34 18 10 14  1 13 30 19 13 10 21  7 22 28 23]\n"
     ]
    }
   ],
   "source": [
    "second_picture_train = data_train[1]\n",
    "#get all indexes of all images of person 8\n",
    "print(target_pred)\n"
   ]
  },
  {
   "cell_type": "code",
   "execution_count": null,
   "id": "3d2f378b",
   "metadata": {},
   "outputs": [],
   "source": []
  },
  {
   "cell_type": "code",
   "execution_count": 33,
   "id": "d5d3cf27",
   "metadata": {},
   "outputs": [
    {
     "name": "stdout",
     "output_type": "stream",
     "text": [
      "[6, 24, 35, 61, 84, 155, 166, 207]\n"
     ]
    }
   ],
   "source": [
    "empty_array = []\n",
    "array_length = len(target_pred)\n",
    "for i in range(0,array_length):\n",
    "    if target_pred[i] == 8:\n",
    "        empty_array.append(i)\n",
    "        \n",
    "print(empty_array)\n"
   ]
  },
  {
   "cell_type": "code",
   "execution_count": 34,
   "id": "25763bec",
   "metadata": {},
   "outputs": [],
   "source": [
    "picturesofperson8 = data_train[empty_array]"
   ]
  },
  {
   "cell_type": "code",
   "execution_count": 35,
   "id": "78946d23",
   "metadata": {},
   "outputs": [
    {
     "name": "stdout",
     "output_type": "stream",
     "text": [
      "(256,)\n"
     ]
    }
   ],
   "source": [
    "print(target_pred.shape)"
   ]
  },
  {
   "cell_type": "code",
   "execution_count": 36,
   "id": "c4815c32",
   "metadata": {},
   "outputs": [
    {
     "name": "stdout",
     "output_type": "stream",
     "text": [
      "[[0.45041323 0.6694215  0.7892562  ... 0.12396694 0.12396694 0.12396694]\n",
      " [0.30165288 0.27272728 0.38016528 ... 0.2644628  0.3140496  0.30578512]\n",
      " [0.24380165 0.30578512 0.37190083 ... 0.2603306  0.24793388 0.24793388]\n",
      " ...\n",
      " [0.20661157 0.28099173 0.3677686  ... 0.2520661  0.24380165 0.27272728]\n",
      " [0.3966942  0.60330576 0.7644628  ... 0.10330579 0.13636364 0.1322314 ]\n",
      " [0.21900827 0.23553719 0.2520661  ... 0.2520661  0.25619835 0.25619835]]\n"
     ]
    }
   ],
   "source": [
    "print(picturesofperson8)"
   ]
  },
  {
   "cell_type": "code",
   "execution_count": 41,
   "id": "8b3fc98b",
   "metadata": {},
   "outputs": [
    {
     "name": "stdout",
     "output_type": "stream",
     "text": [
      "(8, 4096)\n"
     ]
    }
   ],
   "source": [
    "print(picturesofperson8.shape)"
   ]
  },
  {
   "cell_type": "code",
   "execution_count": 58,
   "id": "7eba93f3",
   "metadata": {},
   "outputs": [
    {
     "name": "stdout",
     "output_type": "stream",
     "text": [
      "[0.45041323 0.6694215  0.7892562  ... 0.12396694 0.12396694 0.12396694]\n",
      "[0.30165288 0.27272728 0.38016528 ... 0.2644628  0.3140496  0.30578512]\n",
      "[0.24380165 0.30578512 0.37190083 ... 0.2603306  0.24793388 0.24793388]\n",
      "[0.338843   0.45867768 0.6818182  ... 0.12809917 0.12396694 0.14049587]\n",
      "[0.36363637 0.5495868  0.75206614 ... 0.11983471 0.12809917 0.1322314 ]\n",
      "[0.20661157 0.28099173 0.3677686  ... 0.2520661  0.24380165 0.27272728]\n",
      "[0.3966942  0.60330576 0.7644628  ... 0.10330579 0.13636364 0.1322314 ]\n",
      "[0.21900827 0.23553719 0.2520661  ... 0.2520661  0.25619835 0.25619835]\n",
      "8\n"
     ]
    },
    {
     "data": {
      "text/plain": [
       "<matplotlib.image.AxesImage at 0x7fb2b33ff750>"
      ]
     },
     "execution_count": 58,
     "metadata": {},
     "output_type": "execute_result"
    },
    {
     "data": {
      "text/plain": [
       "<Figure size 432x288 with 0 Axes>"
      ]
     },
     "metadata": {},
     "output_type": "display_data"
    },
    {
     "data": {
      "image/png": "[encoded data removed]",
      "text/plain": [
       "<Figure size 432x288 with 8 Axes>"
      ]
     },
     "metadata": {
      "needs_background": "light"
     },
     "output_type": "display_data"
    }
   ],
   "source": [
    "from matplotlib.image import imread\n",
    "import matplotlib.pyplot as plt\n",
    "\n",
    "\n",
    "picturesofperson8_reshaped = []\n",
    "for i in range(0,len(picturesofperson8)):\n",
    "    print(picturesofperson8[i])\n",
    "    x = picturesofperson8[i].reshape(64, 64)\n",
    "    picturesofperson8_reshaped.append(x)\n",
    "print(len(picturesofperson8_reshaped))\n",
    "\n",
    "#Aadhar Bhatt's answer\n",
    "plt.figure()\n",
    "#subplot(r,c) provide the no. of rows and columns\n",
    "f, axarr = plt.subplots(8,1) \n",
    "# use the created array to output your multiple images. In this case I have stacked 4 images vertically\n",
    "axarr[0].imshow(picturesofperson8_reshaped[0])\n",
    "axarr[1].imshow(picturesofperson8_reshaped[1])\n",
    "axarr[2].imshow(picturesofperson8_reshaped[2])\n",
    "axarr[3].imshow(picturesofperson8_reshaped[3])\n",
    "axarr[4].imshow(picturesofperson8_reshaped[4])\n",
    "axarr[5].imshow(picturesofperson8_reshaped[5])\n",
    "axarr[6].imshow(picturesofperson8_reshaped[6])\n",
    "axarr[7].imshow(picturesofperson8_reshaped[7])"
   ]
  },
  {
   "cell_type": "code",
   "execution_count": 55,
   "id": "38c916a4",
   "metadata": {},
   "outputs": [
    {
     "name": "stdout",
     "output_type": "stream",
     "text": [
      "[0.45041323 0.6694215  0.7892562  ... 0.12396694 0.12396694 0.12396694]\n",
      "[0.30165288 0.27272728 0.38016528 ... 0.2644628  0.3140496  0.30578512]\n",
      "[0.24380165 0.30578512 0.37190083 ... 0.2603306  0.24793388 0.24793388]\n",
      "[0.338843   0.45867768 0.6818182  ... 0.12809917 0.12396694 0.14049587]\n",
      "[0.36363637 0.5495868  0.75206614 ... 0.11983471 0.12809917 0.1322314 ]\n",
      "[0.20661157 0.28099173 0.3677686  ... 0.2520661  0.24380165 0.27272728]\n",
      "[0.3966942  0.60330576 0.7644628  ... 0.10330579 0.13636364 0.1322314 ]\n",
      "[0.21900827 0.23553719 0.2520661  ... 0.2520661  0.25619835 0.25619835]\n",
      "8\n"
     ]
    }
   ],
   "source": [
    "\n",
    "picturesofperson8_reshaped = []\n",
    "for i in range(0,len(picturesofperson8)):\n",
    "    print(picturesofperson8[i])\n",
    "    x = picturesofperson8[i].reshape(64, 64)\n",
    "    picturesofperson8_reshaped.append(x)\n",
    "print(len(picturesofperson8_reshaped))"
   ]
  },
  {
   "cell_type": "code",
   "execution_count": 62,
   "id": "97f812f7",
   "metadata": {},
   "outputs": [
    {
     "name": "stdout",
     "output_type": "stream",
     "text": [
      "[20, 79, 93, 183, 185, 216]\n",
      "[0.7231405  0.7231405  0.72727275 ... 0.22727273 0.21900827 0.21900827]\n",
      "[0.5041322  0.5371901  0.5289256  ... 0.5        0.38016528 0.12396694]\n",
      "[0.60330576 0.58677685 0.5413223  ... 0.5289256  0.49586776 0.49586776]\n",
      "[0.49586776 0.53305787 0.5785124  ... 0.47933885 0.45454547 0.45041323]\n",
      "[0.77272725 0.8057851  0.79752064 ... 0.2107438  0.19008264 0.13636364]\n",
      "[0.4338843  0.57024795 0.6404959  ... 0.2231405  0.2231405  0.22727273]\n",
      "6\n"
     ]
    },
    {
     "data": {
      "text/plain": [
       "<matplotlib.image.AxesImage at 0x7fb2a0f99b90>"
      ]
     },
     "execution_count": 62,
     "metadata": {},
     "output_type": "execute_result"
    },
    {
     "data": {
      "text/plain": [
       "<Figure size 432x288 with 0 Axes>"
      ]
     },
     "metadata": {},
     "output_type": "display_data"
    },
    {
     "data": {
      "image/png": "[encoded data removed]",
      "text/plain": [
       "<Figure size 432x288 with 6 Axes>"
      ]
     },
     "metadata": {
      "needs_background": "light"
     },
     "output_type": "display_data"
    }
   ],
   "source": [
    "empty_array = []\n",
    "array_length = len(target_pred)\n",
    "for i in range(0,array_length):\n",
    "    if target_pred[i] == 5:\n",
    "        empty_array.append(i)\n",
    "        \n",
    "print(empty_array)\n",
    "\n",
    "picturesofperson5 = data_train[empty_array]\n",
    "\n",
    "from matplotlib.image import imread\n",
    "import matplotlib.pyplot as plt\n",
    "\n",
    "\n",
    "picturesofperson5_reshaped = []\n",
    "for i in range(0,len(picturesofperson5)):\n",
    "    print(picturesofperson5[i])\n",
    "    x = picturesofperson5[i].reshape(64, 64)\n",
    "    picturesofperson5_reshaped.append(x)\n",
    "print(len(picturesofperson5_reshaped))\n",
    "\n",
    "#Aadhar Bhatt's answer\n",
    "plt.figure()\n",
    "#subplot(r,c) provide the no. of rows and columns\n",
    "f, axarr = plt.subplots(6,1) \n",
    "# use the created array to output your multiple images. In this case I have stacked 4 images vertically\n",
    "axarr[0].imshow(picturesofperson5_reshaped[0])\n",
    "axarr[1].imshow(picturesofperson5_reshaped[1])\n",
    "axarr[2].imshow(picturesofperson5_reshaped[2])\n",
    "axarr[3].imshow(picturesofperson5_reshaped[3])\n",
    "axarr[4].imshow(picturesofperson5_reshaped[4])\n",
    "axarr[5].imshow(picturesofperson5_reshaped[5])"
   ]
  },
  {
   "cell_type": "code",
   "execution_count": 63,
   "id": "73e81483",
   "metadata": {},
   "outputs": [
    {
     "name": "stdout",
     "output_type": "stream",
     "text": [
      "Hello from a function\n"
     ]
    }
   ],
   "source": [
    "def my_function():\n",
    "  print(\"Hello from a function\")\n",
    "\n",
    "my_function()"
   ]
  },
  {
   "cell_type": "code",
   "execution_count": 64,
   "id": "8ede22c0",
   "metadata": {},
   "outputs": [
    {
     "name": "stdout",
     "output_type": "stream",
     "text": [
      "Emil Refsnes\n",
      "Tobias Refsnes\n",
      "Linus Refsnes\n"
     ]
    }
   ],
   "source": [
    "def my_function(fname):\n",
    "  print(fname + \" Refsnes\")\n",
    "\n",
    "my_function(\"Emil\")\n",
    "my_function(\"Tobias\")\n",
    "my_function(\"Linus\")"
   ]
  },
  {
   "cell_type": "code",
   "execution_count": 65,
   "id": "23df19d6",
   "metadata": {},
   "outputs": [],
   "source": [
    "def number_function(number):\n",
    "    number = number + 1\n",
    "    print(number)"
   ]
  },
  {
   "cell_type": "code",
   "execution_count": 67,
   "id": "40ce4027",
   "metadata": {},
   "outputs": [
    {
     "name": "stdout",
     "output_type": "stream",
     "text": [
      "11\n"
     ]
    }
   ],
   "source": [
    "number_function(10)"
   ]
  },
  {
   "cell_type": "code",
   "execution_count": null,
   "id": "69b777a6",
   "metadata": {},
   "outputs": [],
   "source": []
  }
 ],
 "metadata": {
  "kernelspec": {
   "display_name": "Python (scikitlearn_env)",
   "language": "python",
   "name": "scikitlearn_env"
  },
  "language_info": {
   "codemirror_mode": {
    "name": "ipython",
    "version": 3
   },
   "file_extension": ".py",
   "mimetype": "text/x-python",
   "name": "python",
   "nbconvert_exporter": "python",
   "pygments_lexer": "ipython3",
   "version": "3.7.11"
  }
 },
 "nbformat": 4,
 "nbformat_minor": 5
}
