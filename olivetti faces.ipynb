{
 "cells": [
  {
   "cell_type": "markdown",
   "id": "c485e991",
   "metadata": {},
   "source": [
    "The data in the dataset is of different faces. We imported the dataset and then loaded the dataset. We made a variable for the dataset called load_olivetti. The load_olivetti variable contains data, target, and DESCR.\n",
    "data = has information about every pixel for every image, has 400 images\n",
    "image dimensions = 64 x 64\n",
    "4096 pixels per image\n",
    "flatten the image\n",
    "40 people were photographed 10 times each\n",
    "target = number represents the person, and each person has 10 photos (so 10 of their number)\n",
    "DESCR = description"
   ]
  },
  {
   "cell_type": "code",
   "execution_count": 159,
   "id": "d33da9b4",
   "metadata": {},
   "outputs": [],
   "source": [
    "from sklearn.datasets import fetch_olivetti_faces\n",
    "import matplotlib.pyplot as plt\n",
    "from sklearn.metrics import silhouette_score\n",
    "from sklearn.cluster import KMeans"
   ]
  },
  {
   "cell_type": "code",
   "execution_count": 160,
   "id": "728762fa",
   "metadata": {},
   "outputs": [
    {
     "name": "stdout",
     "output_type": "stream",
     "text": [
      "hi\n"
     ]
    }
   ],
   "source": [
    "print(\"hi\")"
   ]
  },
  {
   "cell_type": "code",
   "execution_count": null,
   "id": "a1e89460",
   "metadata": {},
   "outputs": [],
   "source": []
  },
  {
   "cell_type": "code",
   "execution_count": 161,
   "id": "272fd042",
   "metadata": {},
   "outputs": [],
   "source": [
    "load_olivetti = fetch_olivetti_faces()"
   ]
  },
  {
   "cell_type": "code",
   "execution_count": 162,
   "id": "fef9ef1f",
   "metadata": {},
   "outputs": [
    {
     "name": "stdout",
     "output_type": "stream",
     "text": [
      "{'data': array([[0.30991736, 0.3677686 , 0.41735536, ..., 0.15289256, 0.16115703,\n",
      "        0.1570248 ],\n",
      "       [0.45454547, 0.47107437, 0.5123967 , ..., 0.15289256, 0.15289256,\n",
      "        0.15289256],\n",
      "       [0.3181818 , 0.40082645, 0.49173555, ..., 0.14049587, 0.14876033,\n",
      "        0.15289256],\n",
      "       ...,\n",
      "       [0.5       , 0.53305787, 0.607438  , ..., 0.17768595, 0.14876033,\n",
      "        0.19008264],\n",
      "       [0.21487603, 0.21900827, 0.21900827, ..., 0.57438016, 0.59090906,\n",
      "        0.60330576],\n",
      "       [0.5165289 , 0.46280992, 0.28099173, ..., 0.35950413, 0.3553719 ,\n",
      "        0.38429752]], dtype=float32), 'images': array([[[0.30991736, 0.3677686 , 0.41735536, ..., 0.37190083,\n",
      "         0.3305785 , 0.30578512],\n",
      "        [0.3429752 , 0.40495867, 0.43801653, ..., 0.37190083,\n",
      "         0.338843  , 0.3140496 ],\n",
      "        [0.3429752 , 0.41735536, 0.45041323, ..., 0.38016528,\n",
      "         0.338843  , 0.29752067],\n",
      "        ...,\n",
      "        [0.21487603, 0.20661157, 0.2231405 , ..., 0.15289256,\n",
      "         0.16528925, 0.17355372],\n",
      "        [0.20247933, 0.2107438 , 0.2107438 , ..., 0.14876033,\n",
      "         0.16115703, 0.16528925],\n",
      "        [0.20247933, 0.20661157, 0.20247933, ..., 0.15289256,\n",
      "         0.16115703, 0.1570248 ]],\n",
      "\n",
      "       [[0.45454547, 0.47107437, 0.5123967 , ..., 0.19008264,\n",
      "         0.18595041, 0.18595041],\n",
      "        [0.446281  , 0.48347107, 0.5206612 , ..., 0.21487603,\n",
      "         0.2107438 , 0.2107438 ],\n",
      "        [0.49586776, 0.5165289 , 0.53305787, ..., 0.20247933,\n",
      "         0.20661157, 0.20661157],\n",
      "        ...,\n",
      "        [0.77272725, 0.78099173, 0.7933884 , ..., 0.1446281 ,\n",
      "         0.1446281 , 0.1446281 ],\n",
      "        [0.77272725, 0.7768595 , 0.7892562 , ..., 0.13636364,\n",
      "         0.13636364, 0.13636364],\n",
      "        [0.7644628 , 0.7892562 , 0.78099173, ..., 0.15289256,\n",
      "         0.15289256, 0.15289256]],\n",
      "\n",
      "       [[0.3181818 , 0.40082645, 0.49173555, ..., 0.40082645,\n",
      "         0.3553719 , 0.30991736],\n",
      "        [0.30991736, 0.3966942 , 0.47933885, ..., 0.40495867,\n",
      "         0.37603307, 0.30165288],\n",
      "        [0.26859504, 0.34710744, 0.45454547, ..., 0.3966942 ,\n",
      "         0.37190083, 0.30991736],\n",
      "        ...,\n",
      "        [0.1322314 , 0.09917355, 0.08264463, ..., 0.13636364,\n",
      "         0.14876033, 0.15289256],\n",
      "        [0.11570248, 0.09504132, 0.0785124 , ..., 0.1446281 ,\n",
      "         0.1446281 , 0.1570248 ],\n",
      "        [0.11157025, 0.09090909, 0.0785124 , ..., 0.14049587,\n",
      "         0.14876033, 0.15289256]],\n",
      "\n",
      "       ...,\n",
      "\n",
      "       [[0.5       , 0.53305787, 0.607438  , ..., 0.28512397,\n",
      "         0.23966943, 0.21487603],\n",
      "        [0.49173555, 0.5413223 , 0.60330576, ..., 0.29752067,\n",
      "         0.20247933, 0.20661157],\n",
      "        [0.46694216, 0.55785125, 0.6198347 , ..., 0.29752067,\n",
      "         0.17768595, 0.18595041],\n",
      "        ...,\n",
      "        [0.03305785, 0.46280992, 0.5289256 , ..., 0.17355372,\n",
      "         0.17355372, 0.1694215 ],\n",
      "        [0.1570248 , 0.5247934 , 0.53305787, ..., 0.16528925,\n",
      "         0.1570248 , 0.18595041],\n",
      "        [0.45454547, 0.5206612 , 0.53305787, ..., 0.17768595,\n",
      "         0.14876033, 0.19008264]],\n",
      "\n",
      "       [[0.21487603, 0.21900827, 0.21900827, ..., 0.71487606,\n",
      "         0.71487606, 0.6942149 ],\n",
      "        [0.20247933, 0.20661157, 0.20661157, ..., 0.7107438 ,\n",
      "         0.7066116 , 0.6942149 ],\n",
      "        [0.2107438 , 0.20661157, 0.20661157, ..., 0.6859504 ,\n",
      "         0.69008267, 0.6942149 ],\n",
      "        ...,\n",
      "        [0.2644628 , 0.25619835, 0.2603306 , ..., 0.5413223 ,\n",
      "         0.57438016, 0.59090906],\n",
      "        [0.26859504, 0.2644628 , 0.26859504, ..., 0.56198347,\n",
      "         0.58264464, 0.59504133],\n",
      "        [0.27272728, 0.26859504, 0.27272728, ..., 0.57438016,\n",
      "         0.59090906, 0.60330576]],\n",
      "\n",
      "       [[0.5165289 , 0.46280992, 0.28099173, ..., 0.5785124 ,\n",
      "         0.5413223 , 0.60330576],\n",
      "        [0.5165289 , 0.45041323, 0.29338843, ..., 0.58264464,\n",
      "         0.553719  , 0.5785124 ],\n",
      "        [0.5165289 , 0.44214877, 0.29338843, ..., 0.59917355,\n",
      "         0.5785124 , 0.54545456],\n",
      "        ...,\n",
      "        [0.39256197, 0.41322315, 0.38842976, ..., 0.33471075,\n",
      "         0.37190083, 0.3966942 ],\n",
      "        [0.39256197, 0.38429752, 0.40495867, ..., 0.3305785 ,\n",
      "         0.35950413, 0.37603307],\n",
      "        [0.3677686 , 0.40495867, 0.3966942 , ..., 0.35950413,\n",
      "         0.3553719 , 0.38429752]]], dtype=float32), 'target': array([ 0,  0,  0,  0,  0,  0,  0,  0,  0,  0,  1,  1,  1,  1,  1,  1,  1,\n",
      "        1,  1,  1,  2,  2,  2,  2,  2,  2,  2,  2,  2,  2,  3,  3,  3,  3,\n",
      "        3,  3,  3,  3,  3,  3,  4,  4,  4,  4,  4,  4,  4,  4,  4,  4,  5,\n",
      "        5,  5,  5,  5,  5,  5,  5,  5,  5,  6,  6,  6,  6,  6,  6,  6,  6,\n",
      "        6,  6,  7,  7,  7,  7,  7,  7,  7,  7,  7,  7,  8,  8,  8,  8,  8,\n",
      "        8,  8,  8,  8,  8,  9,  9,  9,  9,  9,  9,  9,  9,  9,  9, 10, 10,\n",
      "       10, 10, 10, 10, 10, 10, 10, 10, 11, 11, 11, 11, 11, 11, 11, 11, 11,\n",
      "       11, 12, 12, 12, 12, 12, 12, 12, 12, 12, 12, 13, 13, 13, 13, 13, 13,\n",
      "       13, 13, 13, 13, 14, 14, 14, 14, 14, 14, 14, 14, 14, 14, 15, 15, 15,\n",
      "       15, 15, 15, 15, 15, 15, 15, 16, 16, 16, 16, 16, 16, 16, 16, 16, 16,\n",
      "       17, 17, 17, 17, 17, 17, 17, 17, 17, 17, 18, 18, 18, 18, 18, 18, 18,\n",
      "       18, 18, 18, 19, 19, 19, 19, 19, 19, 19, 19, 19, 19, 20, 20, 20, 20,\n",
      "       20, 20, 20, 20, 20, 20, 21, 21, 21, 21, 21, 21, 21, 21, 21, 21, 22,\n",
      "       22, 22, 22, 22, 22, 22, 22, 22, 22, 23, 23, 23, 23, 23, 23, 23, 23,\n",
      "       23, 23, 24, 24, 24, 24, 24, 24, 24, 24, 24, 24, 25, 25, 25, 25, 25,\n",
      "       25, 25, 25, 25, 25, 26, 26, 26, 26, 26, 26, 26, 26, 26, 26, 27, 27,\n",
      "       27, 27, 27, 27, 27, 27, 27, 27, 28, 28, 28, 28, 28, 28, 28, 28, 28,\n",
      "       28, 29, 29, 29, 29, 29, 29, 29, 29, 29, 29, 30, 30, 30, 30, 30, 30,\n",
      "       30, 30, 30, 30, 31, 31, 31, 31, 31, 31, 31, 31, 31, 31, 32, 32, 32,\n",
      "       32, 32, 32, 32, 32, 32, 32, 33, 33, 33, 33, 33, 33, 33, 33, 33, 33,\n",
      "       34, 34, 34, 34, 34, 34, 34, 34, 34, 34, 35, 35, 35, 35, 35, 35, 35,\n",
      "       35, 35, 35, 36, 36, 36, 36, 36, 36, 36, 36, 36, 36, 37, 37, 37, 37,\n",
      "       37, 37, 37, 37, 37, 37, 38, 38, 38, 38, 38, 38, 38, 38, 38, 38, 39,\n",
      "       39, 39, 39, 39, 39, 39, 39, 39, 39]), 'DESCR': '.. _olivetti_faces_dataset:\\n\\nThe Olivetti faces dataset\\n--------------------------\\n\\n`This dataset contains a set of face images`_ taken between April 1992 and \\nApril 1994 at AT&T Laboratories Cambridge. The\\n:func:`sklearn.datasets.fetch_olivetti_faces` function is the data\\nfetching / caching function that downloads the data\\narchive from AT&T.\\n\\n.. _This dataset contains a set of face images: http://www.cl.cam.ac.uk/research/dtg/attarchive/facedatabase.html\\n\\nAs described on the original website:\\n\\n    There are ten different images of each of 40 distinct subjects. For some\\n    subjects, the images were taken at different times, varying the lighting,\\n    facial expressions (open / closed eyes, smiling / not smiling) and facial\\n    details (glasses / no glasses). All the images were taken against a dark\\n    homogeneous background with the subjects in an upright, frontal position \\n    (with tolerance for some side movement).\\n\\n**Data Set Characteristics:**\\n\\n    =================   =====================\\n    Classes                                40\\n    Samples total                         400\\n    Dimensionality                       4096\\n    Features            real, between 0 and 1\\n    =================   =====================\\n\\nThe image is quantized to 256 grey levels and stored as unsigned 8-bit \\nintegers; the loader will convert these to floating point values on the \\ninterval [0, 1], which are easier to work with for many algorithms.\\n\\nThe \"target\" for this database is an integer from 0 to 39 indicating the\\nidentity of the person pictured; however, with only 10 examples per class, this\\nrelatively small dataset is more interesting from an unsupervised or\\nsemi-supervised perspective.\\n\\nThe original dataset consisted of 92 x 112, while the version available here\\nconsists of 64x64 images.\\n\\nWhen using these images, please give credit to AT&T Laboratories Cambridge.\\n'}\n"
     ]
    }
   ],
   "source": [
    "print(load_olivetti)"
   ]
  },
  {
   "cell_type": "code",
   "execution_count": 163,
   "id": "c6f2f094",
   "metadata": {},
   "outputs": [],
   "source": [
    "first_picture = load_olivetti.data[0]"
   ]
  },
  {
   "cell_type": "code",
   "execution_count": 164,
   "id": "ef348a48",
   "metadata": {},
   "outputs": [
    {
     "data": {
      "text/plain": [
       "array([ 0,  0,  0,  0,  0,  0,  0,  0,  0,  0,  1,  1,  1,  1,  1,  1,  1,\n",
       "        1,  1,  1,  2,  2,  2,  2,  2,  2,  2,  2,  2,  2,  3,  3,  3,  3,\n",
       "        3,  3,  3,  3,  3,  3,  4,  4,  4,  4,  4,  4,  4,  4,  4,  4,  5,\n",
       "        5,  5,  5,  5,  5,  5,  5,  5,  5,  6,  6,  6,  6,  6,  6,  6,  6,\n",
       "        6,  6,  7,  7,  7,  7,  7,  7,  7,  7,  7,  7,  8,  8,  8,  8,  8,\n",
       "        8,  8,  8,  8,  8,  9,  9,  9,  9,  9,  9,  9,  9,  9,  9, 10, 10,\n",
       "       10, 10, 10, 10, 10, 10, 10, 10, 11, 11, 11, 11, 11, 11, 11, 11, 11,\n",
       "       11, 12, 12, 12, 12, 12, 12, 12, 12, 12, 12, 13, 13, 13, 13, 13, 13,\n",
       "       13, 13, 13, 13, 14, 14, 14, 14, 14, 14, 14, 14, 14, 14, 15, 15, 15,\n",
       "       15, 15, 15, 15, 15, 15, 15, 16, 16, 16, 16, 16, 16, 16, 16, 16, 16,\n",
       "       17, 17, 17, 17, 17, 17, 17, 17, 17, 17, 18, 18, 18, 18, 18, 18, 18,\n",
       "       18, 18, 18, 19, 19, 19, 19, 19, 19, 19, 19, 19, 19, 20, 20, 20, 20,\n",
       "       20, 20, 20, 20, 20, 20, 21, 21, 21, 21, 21, 21, 21, 21, 21, 21, 22,\n",
       "       22, 22, 22, 22, 22, 22, 22, 22, 22, 23, 23, 23, 23, 23, 23, 23, 23,\n",
       "       23, 23, 24, 24, 24, 24, 24, 24, 24, 24, 24, 24, 25, 25, 25, 25, 25,\n",
       "       25, 25, 25, 25, 25, 26, 26, 26, 26, 26, 26, 26, 26, 26, 26, 27, 27,\n",
       "       27, 27, 27, 27, 27, 27, 27, 27, 28, 28, 28, 28, 28, 28, 28, 28, 28,\n",
       "       28, 29, 29, 29, 29, 29, 29, 29, 29, 29, 29, 30, 30, 30, 30, 30, 30,\n",
       "       30, 30, 30, 30, 31, 31, 31, 31, 31, 31, 31, 31, 31, 31, 32, 32, 32,\n",
       "       32, 32, 32, 32, 32, 32, 32, 33, 33, 33, 33, 33, 33, 33, 33, 33, 33,\n",
       "       34, 34, 34, 34, 34, 34, 34, 34, 34, 34, 35, 35, 35, 35, 35, 35, 35,\n",
       "       35, 35, 35, 36, 36, 36, 36, 36, 36, 36, 36, 36, 36, 37, 37, 37, 37,\n",
       "       37, 37, 37, 37, 37, 37, 38, 38, 38, 38, 38, 38, 38, 38, 38, 38, 39,\n",
       "       39, 39, 39, 39, 39, 39, 39, 39, 39])"
      ]
     },
     "execution_count": 164,
     "metadata": {},
     "output_type": "execute_result"
    }
   ],
   "source": [
    "load_olivetti.target"
   ]
  },
  {
   "cell_type": "code",
   "execution_count": 165,
   "id": "d5df16e0",
   "metadata": {},
   "outputs": [
    {
     "data": {
      "text/plain": [
       "'.. _olivetti_faces_dataset:\\n\\nThe Olivetti faces dataset\\n--------------------------\\n\\n`This dataset contains a set of face images`_ taken between April 1992 and \\nApril 1994 at AT&T Laboratories Cambridge. The\\n:func:`sklearn.datasets.fetch_olivetti_faces` function is the data\\nfetching / caching function that downloads the data\\narchive from AT&T.\\n\\n.. _This dataset contains a set of face images: http://www.cl.cam.ac.uk/research/dtg/attarchive/facedatabase.html\\n\\nAs described on the original website:\\n\\n    There are ten different images of each of 40 distinct subjects. For some\\n    subjects, the images were taken at different times, varying the lighting,\\n    facial expressions (open / closed eyes, smiling / not smiling) and facial\\n    details (glasses / no glasses). All the images were taken against a dark\\n    homogeneous background with the subjects in an upright, frontal position \\n    (with tolerance for some side movement).\\n\\n**Data Set Characteristics:**\\n\\n    =================   =====================\\n    Classes                                40\\n    Samples total                         400\\n    Dimensionality                       4096\\n    Features            real, between 0 and 1\\n    =================   =====================\\n\\nThe image is quantized to 256 grey levels and stored as unsigned 8-bit \\nintegers; the loader will convert these to floating point values on the \\ninterval [0, 1], which are easier to work with for many algorithms.\\n\\nThe \"target\" for this database is an integer from 0 to 39 indicating the\\nidentity of the person pictured; however, with only 10 examples per class, this\\nrelatively small dataset is more interesting from an unsupervised or\\nsemi-supervised perspective.\\n\\nThe original dataset consisted of 92 x 112, while the version available here\\nconsists of 64x64 images.\\n\\nWhen using these images, please give credit to AT&T Laboratories Cambridge.\\n'"
      ]
     },
     "execution_count": 165,
     "metadata": {},
     "output_type": "execute_result"
    }
   ],
   "source": [
    "load_olivetti.DESCR"
   ]
  },
  {
   "cell_type": "code",
   "execution_count": 166,
   "id": "8eee010b",
   "metadata": {},
   "outputs": [
    {
     "name": "stdout",
     "output_type": "stream",
     "text": [
      "(4096,)\n"
     ]
    }
   ],
   "source": [
    "print(first_picture.shape)"
   ]
  },
  {
   "cell_type": "code",
   "execution_count": 167,
   "id": "e008ee35",
   "metadata": {},
   "outputs": [],
   "source": [
    "data = load_olivetti.data\n",
    "target = load_olivetti.target\n"
   ]
  },
  {
   "cell_type": "code",
   "execution_count": 168,
   "id": "a43f6d59",
   "metadata": {},
   "outputs": [],
   "source": [
    "import numpy as np\n",
    "from sklearn.model_selection import StratifiedShuffleSplit\n",
    "sss = StratifiedShuffleSplit(n_splits=5, test_size=.2, random_state=9)"
   ]
  },
  {
   "cell_type": "code",
   "execution_count": 169,
   "id": "8b57e418",
   "metadata": {},
   "outputs": [
    {
     "name": "stdout",
     "output_type": "stream",
     "text": [
      "[[0.5206612  0.5206612  0.53305787 ... 0.46694216 0.43801653 0.43801653]\n",
      " [0.20661157 0.2768595  0.3553719  ... 0.30991736 0.37190083 0.38429752]\n",
      " [0.6570248  0.677686   0.6983471  ... 0.11570248 0.11570248 0.10330579]\n",
      " ...\n",
      " [0.7107438  0.74793386 0.76859504 ... 0.39256197 0.47933885 0.7107438 ]\n",
      " [0.47933885 0.5495868  0.6280992  ... 0.2231405  0.21900827 0.22727273]\n",
      " [0.41735536 0.47107437 0.59504133 ... 0.14876033 0.15289256 0.20661157]]\n"
     ]
    }
   ],
   "source": [
    "for train_and_val_index, test_index in sss.split(data, target): \n",
    "    data_train_and_val= data[train_and_val_index]\n",
    "    data_test = data[test_index]\n",
    "    target_train_and_val = target[train_and_val_index]\n",
    "    target_test = target[test_index]\n",
    "    \n",
    "\n",
    "for train_index, val_index in sss.split(data_train_and_val, target_train_and_val): \n",
    "    data_train= data[train_index]\n",
    "    data_val = data[val_index]\n",
    "    target_train = target[train_index]\n",
    "    target_val = target[val_index]\n",
    "    \n",
    "print(data_train)\n"
   ]
  },
  {
   "cell_type": "code",
   "execution_count": 170,
   "id": "95a73b4c",
   "metadata": {},
   "outputs": [
    {
     "name": "stdout",
     "output_type": "stream",
     "text": [
      "(256, 4096)\n",
      "(64, 4096)\n",
      "(80, 4096)\n"
     ]
    }
   ],
   "source": [
    "print(data_train.shape)\n",
    "print(data_val.shape)\n",
    "print(data_test.shape)"
   ]
  },
  {
   "cell_type": "code",
   "execution_count": 171,
   "id": "aa2a2a32",
   "metadata": {},
   "outputs": [
    {
     "name": "stdout",
     "output_type": "stream",
     "text": [
      "[0.5206612  0.5206612  0.53305787 ... 0.46694216 0.43801653 0.43801653]\n"
     ]
    }
   ],
   "source": [
    "print(data_train[0])\n"
   ]
  },
  {
   "cell_type": "code",
   "execution_count": 172,
   "id": "a56b9348",
   "metadata": {},
   "outputs": [],
   "source": [
    "from sklearn.cluster import KMeans\n",
    "k = 120\n",
    "kmeans = KMeans(n_clusters=k)\n",
    "target_pred = kmeans.fit_predict(data_train)"
   ]
  },
  {
   "cell_type": "code",
   "execution_count": 173,
   "id": "8ba1e9a5",
   "metadata": {},
   "outputs": [
    {
     "name": "stdout",
     "output_type": "stream",
     "text": [
      "[ 28  74  19  25  46  29   7  23   8  28  52  25  64  59  45  70  17 108\n",
      "  60  62  66  28 118  97  76  31  26  22  49  90  66  34  87  89  31 114\n",
      "  19  80  44 111  51 104  33  23  27  41  40  67  98  24   4  72  41 101\n",
      "  79 113  59 103  39  16  42   7  70   4  71  43 109  50  50  14  68  29\n",
      "  53  91 119   1  39  70  64  54   0   2 105  17   7  15 117  47  93   0\n",
      "  52  69  61  54 116  55  94  55   1  22  49  92  90  67  38  68  62  48\n",
      "  16  75  27  16  52  12  11  14  32   9  67  47   0  24  87  90  31  37\n",
      "  53  56  15  71  27  80  50  67  72 118  72   4  97   3   9  37  67  35\n",
      "   5   9  60  64  73  42 111  53 106   0  38  36  18  33  73 107  35  44\n",
      "  67  95  47  16   7  95  65  57  12  29  17  21  20   5  51  84  43  69\n",
      "  22  57  26  54  86  81 118  20  58  21   3  13  78  47  59 100  96  50\n",
      "  74   1  75 116 104  12  17 106   4  36 116  29  56 106  85  93  60  43\n",
      "  83  65  27  89   1  18  70 116 109  74  55  63  41  57  10  30  10  28\n",
      "  90  77   2 112  99 115  31  82  23  88 102  62   6  34  49 110 105  39\n",
      "  46  24  40  21]\n"
     ]
    }
   ],
   "source": [
    "print(target_pred)\n",
    "\n"
   ]
  },
  {
   "cell_type": "code",
   "execution_count": 174,
   "id": "7f68fbb4",
   "metadata": {},
   "outputs": [
    {
     "name": "stdout",
     "output_type": "stream",
     "text": [
      "256\n"
     ]
    }
   ],
   "source": [
    "\n",
    "print(len(target_pred))"
   ]
  },
  {
   "cell_type": "code",
   "execution_count": 175,
   "id": "a20754cd",
   "metadata": {},
   "outputs": [],
   "source": [
    "#printing one picture\n",
    "first_picture_train = data_train[0]"
   ]
  },
  {
   "cell_type": "code",
   "execution_count": 176,
   "id": "01e3bddb",
   "metadata": {},
   "outputs": [
    {
     "name": "stdout",
     "output_type": "stream",
     "text": [
      "[[0.5206612  0.5206612  0.53305787 ... 0.60330576 0.59090906 0.5371901 ]\n",
      " [0.5082645  0.5123967  0.5165289  ... 0.59090906 0.5661157  0.5371901 ]\n",
      " [0.48347107 0.5123967  0.5041322  ... 0.57438016 0.55785125 0.53305787]\n",
      " ...\n",
      " [0.3966942  0.38016528 0.37603307 ... 0.46694216 0.4338843  0.4338843 ]\n",
      " [0.36363637 0.39256197 0.35950413 ... 0.46694216 0.4338843  0.4338843 ]\n",
      " [0.33471075 0.3966942  0.3677686  ... 0.46694216 0.43801653 0.43801653]]\n"
     ]
    }
   ],
   "source": [
    "# reshape array\n",
    "\n",
    "first_picture_train_reshaped = first_picture_train.reshape(64, 64)\n",
    "print(first_picture_train_reshaped)\n"
   ]
  },
  {
   "cell_type": "code",
   "execution_count": 177,
   "id": "bb298ee0",
   "metadata": {},
   "outputs": [
    {
     "name": "stdout",
     "output_type": "stream",
     "text": [
      "(64, 64)\n"
     ]
    }
   ],
   "source": [
    "print(first_picture_train_reshaped.shape)"
   ]
  },
  {
   "cell_type": "code",
   "execution_count": 178,
   "id": "ca93d842",
   "metadata": {},
   "outputs": [
    {
     "data": {
      "text/plain": [
       "<matplotlib.image.AxesImage at 0x7fb2a13aa450>"
      ]
     },
     "execution_count": 178,
     "metadata": {},
     "output_type": "execute_result"
    },
    {
     "data": {
      "image/png": "[encoded data removed]",
      "text/plain": [
       "<Figure size 432x288 with 1 Axes>"
      ]
     },
     "metadata": {
      "needs_background": "light"
     },
     "output_type": "display_data"
    }
   ],
   "source": [
    "plt.imshow(first_picture_train_reshaped)"
   ]
  },
  {
   "cell_type": "code",
   "execution_count": 179,
   "id": "900605c8",
   "metadata": {},
   "outputs": [
    {
     "name": "stdout",
     "output_type": "stream",
     "text": [
      "[ 28  74  19  25  46  29   7  23   8  28  52  25  64  59  45  70  17 108\n",
      "  60  62  66  28 118  97  76  31  26  22  49  90  66  34  87  89  31 114\n",
      "  19  80  44 111  51 104  33  23  27  41  40  67  98  24   4  72  41 101\n",
      "  79 113  59 103  39  16  42   7  70   4  71  43 109  50  50  14  68  29\n",
      "  53  91 119   1  39  70  64  54   0   2 105  17   7  15 117  47  93   0\n",
      "  52  69  61  54 116  55  94  55   1  22  49  92  90  67  38  68  62  48\n",
      "  16  75  27  16  52  12  11  14  32   9  67  47   0  24  87  90  31  37\n",
      "  53  56  15  71  27  80  50  67  72 118  72   4  97   3   9  37  67  35\n",
      "   5   9  60  64  73  42 111  53 106   0  38  36  18  33  73 107  35  44\n",
      "  67  95  47  16   7  95  65  57  12  29  17  21  20   5  51  84  43  69\n",
      "  22  57  26  54  86  81 118  20  58  21   3  13  78  47  59 100  96  50\n",
      "  74   1  75 116 104  12  17 106   4  36 116  29  56 106  85  93  60  43\n",
      "  83  65  27  89   1  18  70 116 109  74  55  63  41  57  10  30  10  28\n",
      "  90  77   2 112  99 115  31  82  23  88 102  62   6  34  49 110 105  39\n",
      "  46  24  40  21]\n"
     ]
    }
   ],
   "source": [
    "second_picture_train = data_train[1]\n",
    "#get all indexes of all images of person 8\n",
    "print(target_pred)\n"
   ]
  },
  {
   "cell_type": "code",
   "execution_count": null,
   "id": "3d2f378b",
   "metadata": {},
   "outputs": [],
   "source": []
  },
  {
   "cell_type": "code",
   "execution_count": 180,
   "id": "d5d3cf27",
   "metadata": {},
   "outputs": [
    {
     "name": "stdout",
     "output_type": "stream",
     "text": [
      "[8]\n"
     ]
    }
   ],
   "source": [
    "empty_array = []\n",
    "array_length = len(target_pred)\n",
    "for i in range(0,array_length):\n",
    "    if target_pred[i] == 8:\n",
    "        empty_array.append(i)\n",
    "        \n",
    "print(empty_array)\n"
   ]
  },
  {
   "cell_type": "code",
   "execution_count": 181,
   "id": "25763bec",
   "metadata": {},
   "outputs": [],
   "source": [
    "picturesofperson8 = data_train[empty_array]"
   ]
  },
  {
   "cell_type": "code",
   "execution_count": 182,
   "id": "78946d23",
   "metadata": {},
   "outputs": [
    {
     "name": "stdout",
     "output_type": "stream",
     "text": [
      "(256,)\n"
     ]
    }
   ],
   "source": [
    "print(target_pred.shape)"
   ]
  },
  {
   "cell_type": "code",
   "execution_count": 183,
   "id": "c4815c32",
   "metadata": {},
   "outputs": [
    {
     "name": "stdout",
     "output_type": "stream",
     "text": [
      "[[0.2603306  0.19421488 0.1446281  ... 0.6983471  0.70247936 0.6983471 ]]\n"
     ]
    }
   ],
   "source": [
    "print(picturesofperson8)"
   ]
  },
  {
   "cell_type": "code",
   "execution_count": 184,
   "id": "8b3fc98b",
   "metadata": {},
   "outputs": [
    {
     "name": "stdout",
     "output_type": "stream",
     "text": [
      "(1, 4096)\n"
     ]
    }
   ],
   "source": [
    "print(picturesofperson8.shape)"
   ]
  },
  {
   "cell_type": "code",
   "execution_count": 185,
   "id": "d5e1496b",
   "metadata": {},
   "outputs": [
    {
     "name": "stdout",
     "output_type": "stream",
     "text": [
      "[0.2603306  0.19421488 0.1446281  ... 0.6983471  0.70247936 0.6983471 ]\n",
      "1\n"
     ]
    },
    {
     "ename": "IndexError",
     "evalue": "list index out of range",
     "output_type": "error",
     "traceback": [
      "\u001b[0;31m---------------------------------------------------------------------------\u001b[0m",
      "\u001b[0;31mIndexError\u001b[0m                                Traceback (most recent call last)",
      "\u001b[0;32m/var/folders/jb/g477zm0s6x3gmhc0fhy1_y880000gn/T/ipykernel_1573/1604028937.py\u001b[0m in \u001b[0;36m<module>\u001b[0;34m\u001b[0m\n\u001b[1;32m     16\u001b[0m \u001b[0;31m# use the created array to output your multiple images. In this case I have stacked 4 images vertically\u001b[0m\u001b[0;34m\u001b[0m\u001b[0;34m\u001b[0m\u001b[0;34m\u001b[0m\u001b[0m\n\u001b[1;32m     17\u001b[0m \u001b[0maxarr\u001b[0m\u001b[0;34m[\u001b[0m\u001b[0;36m0\u001b[0m\u001b[0;34m]\u001b[0m\u001b[0;34m.\u001b[0m\u001b[0mimshow\u001b[0m\u001b[0;34m(\u001b[0m\u001b[0mpicturesofperson8_reshaped\u001b[0m\u001b[0;34m[\u001b[0m\u001b[0;36m0\u001b[0m\u001b[0;34m]\u001b[0m\u001b[0;34m)\u001b[0m\u001b[0;34m\u001b[0m\u001b[0;34m\u001b[0m\u001b[0m\n\u001b[0;32m---> 18\u001b[0;31m \u001b[0maxarr\u001b[0m\u001b[0;34m[\u001b[0m\u001b[0;36m1\u001b[0m\u001b[0;34m]\u001b[0m\u001b[0;34m.\u001b[0m\u001b[0mimshow\u001b[0m\u001b[0;34m(\u001b[0m\u001b[0mpicturesofperson8_reshaped\u001b[0m\u001b[0;34m[\u001b[0m\u001b[0;36m1\u001b[0m\u001b[0;34m]\u001b[0m\u001b[0;34m)\u001b[0m\u001b[0;34m\u001b[0m\u001b[0;34m\u001b[0m\u001b[0m\n\u001b[0m\u001b[1;32m     19\u001b[0m \u001b[0maxarr\u001b[0m\u001b[0;34m[\u001b[0m\u001b[0;36m2\u001b[0m\u001b[0;34m]\u001b[0m\u001b[0;34m.\u001b[0m\u001b[0mimshow\u001b[0m\u001b[0;34m(\u001b[0m\u001b[0mpicturesofperson8_reshaped\u001b[0m\u001b[0;34m[\u001b[0m\u001b[0;36m2\u001b[0m\u001b[0;34m]\u001b[0m\u001b[0;34m)\u001b[0m\u001b[0;34m\u001b[0m\u001b[0;34m\u001b[0m\u001b[0m\n",
      "\u001b[0;31mIndexError\u001b[0m: list index out of range"
     ]
    },
    {
     "data": {
      "text/plain": [
       "<Figure size 432x288 with 0 Axes>"
      ]
     },
     "metadata": {},
     "output_type": "display_data"
    },
    {
     "data": {
      "image/png": "[encoded data removed]",
      "text/plain": [
       "<Figure size 432x288 with 8 Axes>"
      ]
     },
     "metadata": {
      "needs_background": "light"
     },
     "output_type": "display_data"
    }
   ],
   "source": [
    "from matplotlib.image import imread\n",
    "import matplotlib.pyplot as plt\n",
    "\n",
    "\n",
    "picturesofperson8_reshaped = []\n",
    "for i in range(0,len(picturesofperson8)):\n",
    "    print(picturesofperson8[i])\n",
    "    x = picturesofperson8[i].reshape(64, 64)\n",
    "    picturesofperson8_reshaped.append(x)\n",
    "print(len(picturesofperson8_reshaped))\n",
    "\n",
    "#Aadhar Bhatt's answer\n",
    "plt.figure()\n",
    "#subplot(r,c) provide the no. of rows and columns\n",
    "f, axarr = plt.subplots(8,1) \n",
    "# use the created array to output your multiple images. In this case I have stacked 4 images vertically\n",
    "axarr[0].imshow(picturesofperson8_reshaped[0])\n",
    "axarr[1].imshow(picturesofperson8_reshaped[1])\n",
    "axarr[2].imshow(picturesofperson8_reshaped[2])\n"
   ]
  },
  {
   "cell_type": "code",
   "execution_count": null,
   "id": "37a2de21",
   "metadata": {},
   "outputs": [],
   "source": [
    "\n",
    "picturesofperson8_reshaped = []\n",
    "for i in range(0,len(picturesofperson8)):\n",
    "    print(picturesofperson8[i])\n",
    "    x = picturesofperson8[i].reshape(64, 64)\n",
    "    picturesofperson8_reshaped.append(x)\n",
    "print(len(picturesofperson8_reshaped))"
   ]
  },
  {
   "cell_type": "code",
   "execution_count": null,
   "id": "fa08c0ec",
   "metadata": {},
   "outputs": [],
   "source": [
    "empty_array = []\n",
    "array_length = len(target_pred)\n",
    "for i in range(0,array_length):\n",
    "    if target_pred[i] == 5:\n",
    "        empty_array.append(i)\n",
    "        \n",
    "print(empty_array)\n",
    "\n",
    "picturesofperson5 = data_train[empty_array]\n",
    "\n",
    "from matplotlib.image import imread\n",
    "import matplotlib.pyplot as plt\n",
    "\n",
    "\n",
    "picturesofperson5_reshaped = []\n",
    "for i in range(0,len(picturesofperson5)):\n",
    "    print(picturesofperson5[i])\n",
    "    x = picturesofperson5[i].reshape(64, 64)\n",
    "    picturesofperson5_reshaped.append(x)\n",
    "print(len(picturesofperson5_reshaped))\n",
    "\n",
    "#Aadhar Bhatt's answer\n",
    "plt.figure()\n",
    "#subplot(r,c) provide the no. of rows and columns\n",
    "f, axarr = plt.subplots(6,1) \n",
    "# use the created array to output your multiple images. In this case I have stacked 4 images vertically\n",
    "axarr[0].imshow(picturesofperson5_reshaped[0])\n",
    "axarr[1].imshow(picturesofperson5_reshaped[1])\n",
    "axarr[2].imshow(picturesofperson5_reshaped[2])\n",
    "axarr[3].imshow(picturesofperson5_reshaped[3])\n",
    "axarr[4].imshow(picturesofperson5_reshaped[4])\n",
    "axarr[5].imshow(picturesofperson5_reshaped[5])"
   ]
  },
  {
   "cell_type": "code",
   "execution_count": null,
   "id": "cfb9ab81",
   "metadata": {},
   "outputs": [],
   "source": [
    "def my_function():\n",
    "  print(\"Hello from a function\")\n",
    "\n",
    "my_function()"
   ]
  },
  {
   "cell_type": "code",
   "execution_count": null,
   "id": "76f744f0",
   "metadata": {},
   "outputs": [],
   "source": [
    "def my_function(fname):\n",
    "  print(fname + \" Refsnes\")\n",
    "\n",
    "my_function(\"Emil\")\n",
    "my_function(\"Tobias\")\n",
    "my_function(\"Linus\")"
   ]
  },
  {
   "cell_type": "code",
   "execution_count": null,
   "id": "9b47835f",
   "metadata": {},
   "outputs": [],
   "source": [
    "def number_function(number):\n",
    "    number = number + 1\n",
    "    print(number)"
   ]
  },
  {
   "cell_type": "code",
   "execution_count": null,
   "id": "a208d914",
   "metadata": {},
   "outputs": [],
   "source": [
    "number_function(10)"
   ]
  },
  {
   "cell_type": "code",
   "execution_count": 186,
   "id": "b57668b6",
   "metadata": {},
   "outputs": [
    {
     "name": "stdout",
     "output_type": "stream",
     "text": [
      "[0.5165289  0.5123967  0.5082645  ... 0.56198347 0.55785125 0.5661157 ]\n",
      "[0.32231405 0.4090909  0.45454547 ... 0.07438017 0.2768595  0.45454547]\n",
      "2\n"
     ]
    },
    {
     "data": {
      "image/png": "[encoded data removed]",
      "text/plain": [
       "<Figure size 432x288 with 2 Axes>"
      ]
     },
     "metadata": {
      "needs_background": "light"
     },
     "output_type": "display_data"
    }
   ],
   "source": [
    "def olivetti_faces(personnumber):\n",
    "    empty_array = []\n",
    "    array_length = len(target_pred)\n",
    "    for i in range(0,array_length):\n",
    "        if target_pred[i] == personnumber:\n",
    "            empty_array.append(i)\n",
    "    picturesofpersonx = data_train[empty_array]\n",
    "    picturesofpersonx_reshaped = []\n",
    "    for i in range(0,len(picturesofpersonx)):\n",
    "        print(picturesofpersonx[i])\n",
    "        x = picturesofpersonx[i].reshape(64, 64)\n",
    "        picturesofpersonx_reshaped.append(x)\n",
    "    print(len(picturesofpersonx_reshaped))\n",
    "    f, axarr = plt.subplots(len(picturesofpersonx),1) \n",
    "    for i in range(0, len(picturesofpersonx)):\n",
    "        axarr[i].imshow(picturesofpersonx_reshaped[i])\n",
    "        \n",
    "olivetti_faces(2)"
   ]
  },
  {
   "cell_type": "code",
   "execution_count": 187,
   "id": "25d19725",
   "metadata": {},
   "outputs": [
    {
     "data": {
      "text/plain": [
       "0.20053938"
      ]
     },
     "execution_count": 187,
     "metadata": {},
     "output_type": "execute_result"
    }
   ],
   "source": [
    "from sklearn.metrics import silhouette_score\n",
    "silhouette_score(data_train, kmeans.labels_)"
   ]
  },
  {
   "cell_type": "code",
   "execution_count": 188,
   "id": "c4b2bb87",
   "metadata": {},
   "outputs": [],
   "source": [
    "numberofclusters = []\n",
    "silhouettescore = []"
   ]
  },
  {
   "cell_type": "code",
   "execution_count": 189,
   "id": "521172de",
   "metadata": {},
   "outputs": [],
   "source": [
    "for i in range (5, 100, 5):\n",
    "    k = i\n",
    "    numberofclusters.append(k)\n",
    "    kmeans = KMeans(n_clusters=k)\n",
    "    target_pred = kmeans.fit_predict(data_train)\n",
    "    SS = silhouette_score(data_train, kmeans.labels_)\n",
    "    silhouettescore.append(SS)\n",
    "    \n",
    "    "
   ]
  },
  {
   "cell_type": "code",
   "execution_count": null,
   "id": "31a8e4a6",
   "metadata": {},
   "outputs": [],
   "source": []
  },
  {
   "cell_type": "code",
   "execution_count": 190,
   "id": "3b0186d4",
   "metadata": {},
   "outputs": [
    {
     "data": {
      "image/png": "[encoded data removed]",
      "text/plain": [
       "<Figure size 432x288 with 1 Axes>"
      ]
     },
     "metadata": {
      "needs_background": "light"
     },
     "output_type": "display_data"
    }
   ],
   "source": [
    "#create and plot the quadratic data\n",
    "import numpy as np\n",
    "\n",
    "import matplotlib as mpl\n",
    "import matplotlib.pyplot as plt\n",
    "\n",
    "plt.xlabel(\"number of clusters\") \n",
    "plt.ylabel(\"shilhouette score\") \n",
    "\n",
    "\n",
    "plt.plot(numberofclusters,silhouettescore,\"b.\")\n",
    "plt.show()"
   ]
  },
  {
   "cell_type": "code",
   "execution_count": 191,
   "id": "881f1d49",
   "metadata": {},
   "outputs": [
    {
     "data": {
      "text/plain": [
       "DecisionTreeClassifier(max_depth=2)"
      ]
     },
     "execution_count": 191,
     "metadata": {},
     "output_type": "execute_result"
    }
   ],
   "source": [
    "\n",
    "from sklearn.tree import DecisionTreeClassifier\n",
    "tree_clf = DecisionTreeClassifier(max_depth = 2)\n",
    "tree_clf.fit(data_train, target_pred)"
   ]
  },
  {
   "cell_type": "code",
   "execution_count": 200,
   "id": "1638d925",
   "metadata": {},
   "outputs": [
    {
     "name": "stdout",
     "output_type": "stream",
     "text": [
      "[0.21900827 0.17768595 0.18181819 ... 0.20661157 0.21900827 0.2231405 ]\n",
      "[[0.00826446 0.02892562 0.01652893 0.01652893 0.00826446 0.00826446\n",
      "  0.01652893 0.01239669 0.02066116 0.01652893 0.00413223 0.02479339\n",
      "  0.02066116 0.01239669 0.02066116 0.01239669 0.01652893 0.01239669\n",
      "  0.00826446 0.02066116 0.01652893 0.01652893 0.01239669 0.02066116\n",
      "  0.00826446 0.         0.00413223 0.01652893 0.01239669 0.01239669\n",
      "  0.01239669 0.00826446 0.01652893 0.01239669 0.00826446 0.00826446\n",
      "  0.01239669 0.02066116 0.00413223 0.01239669 0.00413223 0.01239669\n",
      "  0.00413223 0.00413223 0.         0.01652893 0.00826446 0.02066116\n",
      "  0.01652893 0.00826446 0.01239669 0.00826446 0.00826446 0.01652893\n",
      "  0.00826446 0.00826446 0.00826446 0.00826446 0.00826446 0.01239669\n",
      "  0.01652893 0.00413223 0.01239669 0.00413223 0.00826446 0.00413223\n",
      "  0.00826446 0.00826446 0.00826446 0.00826446 0.00413223 0.00413223\n",
      "  0.01239669 0.00826446 0.00413223 0.00413223 0.00826446 0.01239669\n",
      "  0.00826446 0.00826446 0.01239669 0.00413223 0.00413223 0.00826446\n",
      "  0.00413223 0.00413223 0.01239669 0.00413223 0.01239669 0.01239669\n",
      "  0.00413223 0.00413223 0.01239669 0.00413223 0.00413223]]\n"
     ]
    }
   ],
   "source": [
    "first = data_train[90]\n",
    "print(first)\n",
    "prediction = tree_clf.predict_proba([first])\n",
    "print(prediction)"
   ]
  },
  {
   "cell_type": "code",
   "execution_count": 201,
   "id": "e8b9291d",
   "metadata": {},
   "outputs": [
    {
     "name": "stdout",
     "output_type": "stream",
     "text": [
      "[0.55785125 0.6280992  0.677686   ... 0.446281   0.27272728 0.39256197]\n",
      "[[0.00826446 0.02892562 0.01652893 0.01652893 0.00826446 0.00826446\n",
      "  0.01652893 0.01239669 0.02066116 0.01652893 0.00413223 0.02479339\n",
      "  0.02066116 0.01239669 0.02066116 0.01239669 0.01652893 0.01239669\n",
      "  0.00826446 0.02066116 0.01652893 0.01652893 0.01239669 0.02066116\n",
      "  0.00826446 0.         0.00413223 0.01652893 0.01239669 0.01239669\n",
      "  0.01239669 0.00826446 0.01652893 0.01239669 0.00826446 0.00826446\n",
      "  0.01239669 0.02066116 0.00413223 0.01239669 0.00413223 0.01239669\n",
      "  0.00413223 0.00413223 0.         0.01652893 0.00826446 0.02066116\n",
      "  0.01652893 0.00826446 0.01239669 0.00826446 0.00826446 0.01652893\n",
      "  0.00826446 0.00826446 0.00826446 0.00826446 0.00826446 0.01239669\n",
      "  0.01652893 0.00413223 0.01239669 0.00413223 0.00826446 0.00413223\n",
      "  0.00826446 0.00826446 0.00826446 0.00826446 0.00413223 0.00413223\n",
      "  0.01239669 0.00826446 0.00413223 0.00413223 0.00826446 0.01239669\n",
      "  0.00826446 0.00826446 0.01239669 0.00413223 0.00413223 0.00826446\n",
      "  0.00413223 0.00413223 0.01239669 0.00413223 0.01239669 0.01239669\n",
      "  0.00413223 0.00413223 0.01239669 0.00413223 0.00413223]]\n"
     ]
    }
   ],
   "source": [
    "first = data_train[7]\n",
    "print(first)\n",
    "prediction = tree_clf.predict_proba([first])\n",
    "print(prediction)"
   ]
  },
  {
   "cell_type": "code",
   "execution_count": 203,
   "id": "e78b4929",
   "metadata": {},
   "outputs": [
    {
     "name": "stderr",
     "output_type": "stream",
     "text": [
      "/Users/mayatang/opt/anaconda3/envs/scikitlearn_env/lib/python3.7/site-packages/sklearn/model_selection/_split.py:680: UserWarning: The least populated class in y has only 1 members, which is less than n_splits=3.\n",
      "  UserWarning,\n"
     ]
    },
    {
     "data": {
      "text/plain": [
       "array([0.04651163, 0.03529412, 0.07058824])"
      ]
     },
     "execution_count": 203,
     "metadata": {},
     "output_type": "execute_result"
    }
   ],
   "source": [
    "from sklearn.model_selection import cross_val_score\n",
    "cross_val_score(tree_clf, data_train, target_pred, cv = 3, scoring=\"accuracy\")"
   ]
  },
  {
   "cell_type": "code",
   "execution_count": 204,
   "id": "449e76a9",
   "metadata": {},
   "outputs": [
    {
     "name": "stdout",
     "output_type": "stream",
     "text": [
      "[62  8 86 12 34 44 20  2 21 36 23 42 19 66 53  8 32 91 41 72 68 36 44 77\n",
      " 38 48 64 21 55 18 68 30 53 78 48 82 17 17 52 65 35 23 47  2 33 80 60 14\n",
      " 81 28 27 29 80  4 25 87 66  6 59 13  6 20 89 27  3 47 45 37 37  5  1 44\n",
      "  7 94 46 16 59  8 19 50  9  3 62 32 20 76 25 12 60  9 23  0 75 50 11 10\n",
      " 77 88 16 21 86 84 83 14  1  1 72 61 73 57 33 13 23 22 89  5 25 15 14 12\n",
      "  9 28 53 18 48 31  7 69 76  3 33 17 37  2 29 44 29 27 77 56 15 31 14 51\n",
      " 88 15 41 19 67  6 73  7 93  9  1 49 24 47 67 11 51 52 14 25 12 13 20 25\n",
      " 79 39 22 44 32 92 45 19 35 71 47  0 21 39 64 50 37 43 44 45 25 92 56  6\n",
      " 86 12 40 53 26 37  8 16 57 11 23 22 32  1 27 49 11 44 69  1 90 60 41 47\n",
      " 70 79 58 78 16 24 89 11 45  8 88 74 80 39 11 46 19 36 83 63  3 42 30 54\n",
      " 48 85  2  1 58 72 54 30 55  4 62 59 34 28 60 92]\n"
     ]
    }
   ],
   "source": [
    "print(target_pred)"
   ]
  },
  {
   "cell_type": "code",
   "execution_count": null,
   "id": "ae20cc8f",
   "metadata": {},
   "outputs": [],
   "source": []
  }
 ],
 "metadata": {
  "kernelspec": {
   "display_name": "Python (scikitlearn_env)",
   "language": "python",
   "name": "scikitlearn_env"
  },
  "language_info": {
   "codemirror_mode": {
    "name": "ipython",
    "version": 3
   },
   "file_extension": ".py",
   "mimetype": "text/x-python",
   "name": "python",
   "nbconvert_exporter": "python",
   "pygments_lexer": "ipython3",
   "version": "3.7.11"
  }
 },
 "nbformat": 4,
 "nbformat_minor": 5
}
